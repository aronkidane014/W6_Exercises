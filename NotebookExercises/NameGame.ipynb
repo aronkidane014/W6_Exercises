{
 "cells": [
  {
   "cell_type": "markdown",
   "id": "590c90bb-cb95-464c-8768-a607471ef409",
   "metadata": {},
   "source": [
    "# The Name Game\n"
   ]
  },
  {
   "cell_type": "markdown",
   "id": "f77a2e32-5bcb-4dea-80d5-b460e33e3b29",
   "metadata": {},
   "source": [
    "The \"Name Game\" is a fun game where you sing a song with someone's name.The game involves taking a person's name and turning it into a catchy rhyme with a variety of fun rules.\n",
    "For example, if the name is \"Sally\", the rhyme would be:\n",
    "\"Sally, Sally, bo-bally, banana-fana fo-fally, fee-fi-mo-mally, Sally!\"\n",
    "This game can be a fun way to learn how names can be transformed into silly rhymes"
   ]
  },
  {
   "cell_type": "code",
   "execution_count": 3,
   "id": "2cb6b2d8-80da-43f3-9579-c4ab831a208c",
   "metadata": {},
   "outputs": [],
   "source": [
    "def name_game(name):\n",
    "    name = name.lower()\n",
    "    first_letter = name[0]\n",
    "\n",
    "    # Replace the first letter with 'f' and 'm' for the fo- and mo- parts\n",
    "    rhyme = f\"{name.capitalize()}, {name.capitalize()}, bo-bana, banana-fana fo-{name[1:].replace(name[0], 'f', 1)}, fee-fi-mo-{name[1:].replace(name[0], 'm', 1)}, {name.capitalize()}!\"\n",
    "    return rhyme\n"
   ]
  },
  {
   "cell_type": "code",
   "execution_count": 8,
   "id": "0f656865-571b-48aa-82a7-614b0751c2fa",
   "metadata": {},
   "outputs": [
    {
     "name": "stdout",
     "output_type": "stream",
     "text": [
      "Sally, Sally, bo-bana, banana-fana fo-sally, fee-fi-mo-sally, Sally!\n"
     ]
    }
   ],
   "source": [
    "print(name_game(\"Sally\"))\n"
   ]
  },
  {
   "cell_type": "code",
   "execution_count": 9,
   "id": "4d848cd2-9384-4d85-bd6a-524c6b341e67",
   "metadata": {},
   "outputs": [
    {
     "name": "stdout",
     "output_type": "stream",
     "text": [
      "Salah, Salah, bo-bana, banana-fana fo-salah, fee-fi-mo-salah, Salah!\n"
     ]
    }
   ],
   "source": [
    "print(name_game(\"Salah\"))"
   ]
  },
  {
   "cell_type": "code",
   "execution_count": null,
   "id": "05bcffe3-0de1-41be-8270-a552d5d77e38",
   "metadata": {},
   "outputs": [],
   "source": []
  },
  {
   "cell_type": "code",
   "execution_count": null,
   "id": "ec818dc1-8b25-49b0-8b8c-93f91ed6c73a",
   "metadata": {},
   "outputs": [],
   "source": []
  }
 ],
 "metadata": {
  "kernelspec": {
   "display_name": "Python 3 (ipykernel)",
   "language": "python",
   "name": "python3"
  },
  "language_info": {
   "codemirror_mode": {
    "name": "ipython",
    "version": 3
   },
   "file_extension": ".py",
   "mimetype": "text/x-python",
   "name": "python",
   "nbconvert_exporter": "python",
   "pygments_lexer": "ipython3",
   "version": "3.12.6"
  }
 },
 "nbformat": 4,
 "nbformat_minor": 5
}
